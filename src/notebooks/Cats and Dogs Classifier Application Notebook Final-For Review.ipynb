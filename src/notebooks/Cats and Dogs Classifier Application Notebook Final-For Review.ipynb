{
 "cells": [
  {
   "cell_type": "markdown",
   "metadata": {},
   "source": [
    "## Package Imports: All the necessary packages and modules are imported here."
   ]
  },
  {
   "cell_type": "code",
   "execution_count": 22,
   "metadata": {
    "collapsed": true
   },
   "outputs": [],
   "source": [
    "import torch\n",
    "import bcolz as bz\n",
    "import pickle\n",
    "import torch.nn as nn\n",
    "import torch.optim as optim\n",
    "from torch.optim import lr_scheduler\n",
    "import torchvision\n",
    "import time\n",
    "import os, sys\n",
    "import copy\n",
    "import ast\n",
    "from PIL import Image\n",
    "from torchvision import datasets, models, transforms\n",
    "from torch.autograd import Variable\n",
    "import torch.nn.functional as F\n",
    "import matplotlib.pyplot as plt\n",
    "import numpy as np\n",
    "%matplotlib inline\n",
    "from PIL import ImageFile\n",
    "import os \n",
    "import pathlib\n",
    "import os\n",
    "import glob\n",
    "import random\n",
    "from shutil import copyfile\n",
    "ImageFile.LOAD_TRUNCATED_IMAGES = True"
   ]
  },
  {
   "cell_type": "markdown",
   "metadata": {},
   "source": [
    "## Hyperparameters"
   ]
  },
  {
   "cell_type": "code",
   "execution_count": 167,
   "metadata": {
    "collapsed": true
   },
   "outputs": [],
   "source": [
    "batch_size = 64\n",
    "num_classes = 2\n",
    "num_features = 2048\n",
    "learning_rate = 1e-2\n",
    "num_epochs = 20\n",
    "weight_decay=0\n",
    "momentum=0.9"
   ]
  },
  {
   "cell_type": "code",
   "execution_count": 137,
   "metadata": {
    "collapsed": true
   },
   "outputs": [],
   "source": [
    "hyperparameters = {\n",
    "    \"batch_size\": batch_size,\n",
    "    \"num_classes\": num_classes,\n",
    "    \"num_features\": num_features,\n",
    "    \"learning_rate\": learning_rate,\n",
    "    \"num_epochs\": num_epochs,\n",
    "    \"weight_decay\": weight_decay,\n",
    "    \"momentum\": momentum\n",
    "}\n",
    "pickle.dump((hyperparameters,), open('../models/hyperparameters.p', 'wb'))"
   ]
  },
  {
   "cell_type": "markdown",
   "metadata": {},
   "source": [
    "## Save paths and data sorting"
   ]
  },
  {
   "cell_type": "code",
   "execution_count": 155,
   "metadata": {
    "collapsed": true
   },
   "outputs": [],
   "source": [
    "\n",
    "model_weights_path = '../models/catsanddogs/checkpoint.pth.tar'\n",
    "data_base_path = '../data/raw/catsanddogs'\n",
    "class_to_idx_path = '../models/catsanddogs/class_to_idx.pkl'"
   ]
  },
  {
   "cell_type": "code",
   "execution_count": 16,
   "metadata": {},
   "outputs": [
    {
     "name": "stdout",
     "output_type": "stream",
     "text": [
      "/Users/clivecadogan/Documents/workspace/AI/DL/AIPND-Image-Classifier-Application/src\n"
     ]
    }
   ],
   "source": [
    "%cd ..\n",
    "current_dir = os.getcwd()\n",
    "HOME_DIR = current_dir\n",
    "DATA_HOME_DIR = current_dir+'/data/raw/catsanddogs'"
   ]
  },
  {
   "cell_type": "code",
   "execution_count": 17,
   "metadata": {},
   "outputs": [],
   "source": [
    "sys.path.insert(1, os.path.join(sys.path[0], '..'))"
   ]
  },
  {
   "cell_type": "markdown",
   "metadata": {},
   "source": [
    "## Training data Agumentation, Normalization and Loading"
   ]
  },
  {
   "cell_type": "code",
   "execution_count": 55,
   "metadata": {},
   "outputs": [],
   "source": [
    "# Source: http://pytorch.org/tutorials/beginner/transfer_learning_tutorial.html\n",
    "#Data Transforms\n",
    "preprocess = {\n",
    "    'train': transforms.Compose([\n",
    "        transforms.RandomResizedCrop(224),\n",
    "        transforms.RandomHorizontalFlip(),\n",
    "        transforms.ToTensor(),\n",
    "        transforms.Normalize(mean=[0.485, 0.456, 406], std=[0.229, 0.224, 0.225])\n",
    "    ]),\n",
    "    'valid': transforms.Compose([\n",
    "        transforms.Resize(256),\n",
    "        transforms.CenterCrop(224),\n",
    "        transforms.ToTensor(),\n",
    "        transforms.Normalize(mean=[0.485, 0.456, 406], std=[0.229, 0.224, 0.225])\n",
    "    ])\n",
    "}\n",
    "\n",
    "\n",
    "image_datasets = {x: datasets.ImageFolder(os.path.join(data_base_path, x), preprocess[x]) for x in ['train', 'valid']}\n",
    "dataLoaders = {x: torch.utils.data.DataLoader(image_datasets[x], batch_size=batch_size, shuffle=True, num_workers=1) for x in ['train', 'valid']}\n",
    "dataset_sizes = {x: len(image_datasets[x]) for x in ['train', 'valid']}\n",
    "class_names = image_datasets['train'].classes\n",
    "class_to_idx = image_datasets['train'].class_to_idx\n",
    "use_gpu = torch.cuda.is_available()"
   ]
  },
  {
   "cell_type": "code",
   "execution_count": 283,
   "metadata": {},
   "outputs": [
    {
     "name": "stdout",
     "output_type": "stream",
     "text": [
      "class_to_index ({'dogs': 1, 'cats': 0},)\n"
     ]
    }
   ],
   "source": [
    "class_to_index = pickle.load(open(class_to_idx_path, mode='rb'))\n",
    "print('class_to_index', class_to_index)"
   ]
  },
  {
   "cell_type": "code",
   "execution_count": 176,
   "metadata": {},
   "outputs": [
    {
     "name": "stdout",
     "output_type": "stream",
     "text": [
      "/Users/clivecadogan/Documents/workspace/AI/DL/AIPND-Image-Classifier-Application/src\n",
      "/Users/clivecadogan/Documents/workspace/AI/DL/AIPND-Image-Classifier-Application/src/notebooks\n",
      "test_class_names ['cats', 'dogs']\n",
      "test_class_to_idx {'dogs': 1, 'cats': 0}\n"
     ]
    }
   ],
   "source": [
    "%cd $HOME_DIR\n",
    "%cd 'notebooks'\n",
    "#Data Transforms\n",
    "prepProcessTest = transforms.Compose([\n",
    "        transforms.Resize(256),\n",
    "        transforms.CenterCrop(224),\n",
    "        transforms.ToTensor(),\n",
    "        transforms.Normalize(mean=[0.485, 0.456, 406], std=[0.229, 0.224, 0.225])\n",
    "    ])\n",
    "\n",
    "\n",
    "testImageDataset = datasets.ImageFolder(os.path.join(data_base_path, 'sample/test'), prepProcessTest)\n",
    "testDataLoader = torch.utils.data.DataLoader(testImageDataset, batch_size=6, shuffle=True, num_workers=1)\n",
    "# dataset_sizes = {x: len(image_datasets[x]) for x in ['train', 'valid']}\n",
    "test_class_names = testImageDataset.classes\n",
    "test_class_to_idx = testImageDataset.class_to_idx\n",
    "print('test_class_names', test_class_names)\n",
    "print('test_class_to_idx', test_class_to_idx)\n",
    "# use_gpu = torch.cuda.is_available()"
   ]
  },
  {
   "cell_type": "code",
   "execution_count": 60,
   "metadata": {},
   "outputs": [
    {
     "data": {
      "image/png": "[encoded data removed]",
      "text/plain": [
       "<matplotlib.figure.Figure at 0x1114863c8>"
      ]
     },
     "metadata": {},
     "output_type": "display_data"
    }
   ],
   "source": [
    "# Source: http://pytorch.org/tutorials/beginner/transfer_learning_tutorial.html\n",
    "def imshow(inp, title=None):\n",
    "    \"\"\"imshow for tensor\"\"\"\n",
    "    inp = inp.numpy().transpose((1,2,0))\n",
    "    mean = np.array([0.485, 0.456, 0.406])\n",
    "    std = np.array([0.229, 0.224, 0.225])\n",
    "    inp = std * inp + mean\n",
    "    inp = np.clip(inp, 0,1)\n",
    "    plt.imshow(inp)\n",
    "    if title is not None:\n",
    "        plt.title(title)\n",
    "    plt.pause(0.001) # pause a bit so that plots are updated\n",
    "\n",
    "# get a batch of training data\n",
    "inputs, classes = next(iter(dataLoaders['train']))\n",
    "#make a grid from batch\n",
    "out = torchvision.utils.make_grid(inputs)\n",
    "imshow(out, title=[class_names[x] for x in classes])"
   ]
  },
  {
   "cell_type": "markdown",
   "metadata": {},
   "source": [
    "## Load Pretrained Network, Extract features, Store extracted image features"
   ]
  },
  {
   "cell_type": "code",
   "execution_count": 62,
   "metadata": {
    "collapsed": true
   },
   "outputs": [],
   "source": [
    "pretrained_model = models.resnet152(pretrained=True)\n",
    "modules = list(pretrained_model.children())[:-1]\n",
    "pretrained_model=nn.Sequential(*modules)\n",
    "for param in pretrained_model.parameters():\n",
    "    param.requires_grad = False\n",
    "if use_gpu:\n",
    "    pretrained_model = pretrained_model.cuda()"
   ]
  },
  {
   "cell_type": "code",
   "execution_count": 63,
   "metadata": {
    "collapsed": true
   },
   "outputs": [],
   "source": [
    "def save_array(filename, arr):\n",
    "    c=bz.carray(arr, rootdir=filename, mode='w')\n",
    "    c.flush()"
   ]
  },
  {
   "cell_type": "code",
   "execution_count": 64,
   "metadata": {
    "collapsed": true
   },
   "outputs": [],
   "source": [
    "def load_array(filename):\n",
    "    return bz.open(filename)[:]"
   ]
  },
  {
   "cell_type": "code",
   "execution_count": 65,
   "metadata": {
    "collapsed": true
   },
   "outputs": [],
   "source": [
    "#Reference: \n",
    "def extract_features(dataset):\n",
    "    features = []\n",
    "    labels_list = []\n",
    "    for data in dataset:\n",
    "        inputs, labels = data\n",
    "        if use_gpu:\n",
    "            inputs, labels = Variable(inputs.cuda()), Variable(labels.cuda())\n",
    "        else:\n",
    "            inputs, labels = Variable(inputs), Variable(labels)\n",
    "        x = pretrained_model(inputs)\n",
    "        features.extend(x.data.cpu().numpy())\n",
    "        labels_list.extend(labels.data.cpu().numpy())\n",
    "    features = np.concatenate([[feat] for feat in features])\n",
    "    return (features, labels_list)"
   ]
  },
  {
   "cell_type": "code",
   "execution_count": 66,
   "metadata": {},
   "outputs": [
    {
     "name": "stdout",
     "output_type": "stream",
     "text": [
      "CPU times: user 3h 41min 48s, sys: 21min 53s, total: 4h 3min 42s\n",
      "Wall time: 2h 26min 23s\n"
     ]
    }
   ],
   "source": [
    "%%time\n",
    "conv_feat_train, labels_train = extract_features(dataLoaders['train'])"
   ]
  },
  {
   "cell_type": "code",
   "execution_count": 67,
   "metadata": {
    "collapsed": true
   },
   "outputs": [],
   "source": [
    "save_array('../data/processed/catsanddogs/conv_feat_train.bc', conv_feat_train)"
   ]
  },
  {
   "cell_type": "code",
   "execution_count": 68,
   "metadata": {
    "collapsed": true
   },
   "outputs": [],
   "source": [
    "save_array('../data/processed/catsanddogs/labels_train.bc', labels_train)"
   ]
  },
  {
   "cell_type": "code",
   "execution_count": 69,
   "metadata": {},
   "outputs": [
    {
     "name": "stdout",
     "output_type": "stream",
     "text": [
      "CPU times: user 19min 17s, sys: 1min 49s, total: 21min 7s\n",
      "Wall time: 12min 40s\n"
     ]
    }
   ],
   "source": [
    "%%time\n",
    "conv_feat_val, labels_val = extract_features(dataLoaders['valid'])"
   ]
  },
  {
   "cell_type": "code",
   "execution_count": 70,
   "metadata": {
    "collapsed": true
   },
   "outputs": [],
   "source": [
    "save_array('../data/processed/catsanddogs/conv_feat_val.bc', conv_feat_val)"
   ]
  },
  {
   "cell_type": "code",
   "execution_count": 71,
   "metadata": {
    "collapsed": true
   },
   "outputs": [],
   "source": [
    "save_array('../data/processed/catsanddogs/labels_val.bc', labels_val)"
   ]
  },
  {
   "cell_type": "code",
   "execution_count": 177,
   "metadata": {},
   "outputs": [
    {
     "name": "stdout",
     "output_type": "stream",
     "text": [
      "CPU times: user 57.9 s, sys: 7.21 s, total: 1min 5s\n",
      "Wall time: 48.3 s\n"
     ]
    }
   ],
   "source": [
    "%%time\n",
    "conv_feat_test, labels_test = extract_features(testDataLoader)"
   ]
  },
  {
   "cell_type": "code",
   "execution_count": 178,
   "metadata": {
    "collapsed": true
   },
   "outputs": [],
   "source": [
    "save_array('../data/processed/catsanddogs/conv_feat_test.bc', conv_feat_test)"
   ]
  },
  {
   "cell_type": "code",
   "execution_count": 179,
   "metadata": {
    "collapsed": true
   },
   "outputs": [],
   "source": [
    "save_array('../data/processed/catsanddogs/labels_test.bc', labels_test)"
   ]
  },
  {
   "cell_type": "code",
   "execution_count": 72,
   "metadata": {
    "collapsed": true
   },
   "outputs": [],
   "source": [
    "conv_feat_train = load_array('../data/processed/catsanddogs/conv_feat_train.bc')\n",
    "labels_train = load_array('../data/processed/catsanddogs/labels_train.bc')\n",
    "conv_feat_val = load_array('../data/processed/catsanddogs/conv_feat_val.bc')\n",
    "labels_val = load_array('../data/processed/catsanddogs/labels_val.bc')"
   ]
  },
  {
   "cell_type": "code",
   "execution_count": 180,
   "metadata": {
    "collapsed": true
   },
   "outputs": [],
   "source": [
    "conv_feat_test = load_array('../data/processed/catsanddogs/conv_feat_test.bc')\n",
    "labels_test = load_array('../data/processed/catsanddogs/labels_test.bc')"
   ]
  },
  {
   "cell_type": "code",
   "execution_count": 181,
   "metadata": {},
   "outputs": [
    {
     "data": {
      "text/plain": [
       "(100, 2048, 1, 1)"
      ]
     },
     "execution_count": 181,
     "metadata": {},
     "output_type": "execute_result"
    }
   ],
   "source": [
    "conv_feat_test.shape"
   ]
  },
  {
   "cell_type": "code",
   "execution_count": 73,
   "metadata": {},
   "outputs": [
    {
     "data": {
      "text/plain": [
       "(23000, 2048, 1, 1)"
      ]
     },
     "execution_count": 73,
     "metadata": {},
     "output_type": "execute_result"
    }
   ],
   "source": [
    "conv_feat_train.shape"
   ]
  },
  {
   "cell_type": "code",
   "execution_count": 74,
   "metadata": {},
   "outputs": [
    {
     "data": {
      "text/plain": [
       "(23000,)"
      ]
     },
     "execution_count": 74,
     "metadata": {},
     "output_type": "execute_result"
    }
   ],
   "source": [
    "np.array(labels_train).shape"
   ]
  },
  {
   "cell_type": "code",
   "execution_count": 75,
   "metadata": {},
   "outputs": [
    {
     "data": {
      "text/plain": [
       "(2000, 2048, 1, 1)"
      ]
     },
     "execution_count": 75,
     "metadata": {},
     "output_type": "execute_result"
    }
   ],
   "source": [
    "np.array(conv_feat_val).shape"
   ]
  },
  {
   "cell_type": "markdown",
   "metadata": {},
   "source": [
    "## Feedforward Classifier"
   ]
  },
  {
   "cell_type": "code",
   "execution_count": 214,
   "metadata": {},
   "outputs": [
    {
     "name": "stdout",
     "output_type": "stream",
     "text": [
      "Classifier(\n",
      "  (classifier): Sequential(\n",
      "    (0): Linear(in_features=2048, out_features=2)\n",
      "  )\n",
      ")\n"
     ]
    }
   ],
   "source": [
    "class Classifier(nn.Module):\n",
    "    \"\"\"\n",
    "    \"\"\"\n",
    "    def __init__(self, num_features, num_classes):\n",
    "        super(Classifier, self).__init__()\n",
    "        self.classifier = nn.Sequential(\n",
    "            nn.Linear(num_features, num_classes),\n",
    "        )\n",
    "\n",
    "    def forward(self, x):\n",
    "        x = x.view(x.size(0), -1)\n",
    "        x = self.classifier(x)\n",
    "        return x\n",
    "\n",
    "model = Classifier(num_features, num_classes)\n",
    "print(model)\n",
    "\n",
    "if use_gpu:\n",
    "    model.cuda()"
   ]
  },
  {
   "cell_type": "markdown",
   "metadata": {},
   "source": [
    "## Optimizer"
   ]
  },
  {
   "cell_type": "code",
   "execution_count": 215,
   "metadata": {
    "collapsed": true
   },
   "outputs": [],
   "source": [
    "weights, biases = [], []\n",
    "for name, p in model.named_parameters():\n",
    "   if 'bias' in name:\n",
    "       biases += [p]\n",
    "   else:\n",
    "       weights += [p]\n"
   ]
  },
  {
   "cell_type": "code",
   "execution_count": 216,
   "metadata": {
    "collapsed": true
   },
   "outputs": [],
   "source": [
    "criterion = nn.CrossEntropyLoss()\n",
    "optimizer = optim.SGD([\n",
    "  {'params': weights},\n",
    "  {'params': biases, weight_decay:0}\n",
    "], lr=learning_rate, momentum=momentum, weight_decay=weight_decay)"
   ]
  },
  {
   "cell_type": "markdown",
   "metadata": {},
   "source": [
    "## Generator for Convoluted features and labels"
   ]
  },
  {
   "cell_type": "code",
   "execution_count": 217,
   "metadata": {
    "collapsed": true
   },
   "outputs": [],
   "source": [
    "def generator(features, labels, batch_size=32, shuffle=True):\n",
    "    labels = np.array(labels)\n",
    "    if shuffle:\n",
    "        index = np.random.permutation(len(features))\n",
    "        features = features[index]\n",
    "        labels = labels[index]\n",
    "    for i in range(0, len(features), batch_size):\n",
    "        yield (features[i:i+batch_size], labels[i:i+batch_size])"
   ]
  },
  {
   "cell_type": "code",
   "execution_count": 218,
   "metadata": {
    "collapsed": true
   },
   "outputs": [],
   "source": [
    "feature_dataset = {}"
   ]
  },
  {
   "cell_type": "markdown",
   "metadata": {},
   "source": [
    "## Training Feedforward Classifier"
   ]
  },
  {
   "cell_type": "code",
   "execution_count": 219,
   "metadata": {
    "collapsed": true
   },
   "outputs": [],
   "source": [
    "def train(model, dataset_sizes=None, train_features=None, train_labels=None, val_features=None, val_labels=None, criterion=None, optimizer=None, num_epochs=25, train=True, shuffle=None):\n",
    "    start = time.time()\n",
    "    best_model_weights = copy.deepcopy(model.state_dict())\n",
    "    best_accuracy = 0.0\n",
    "    for epoch in range(num_epochs):\n",
    "        print('Epoch {}/{}'.format(epoch, num_epochs -1))\n",
    "        print('-'*10)\n",
    "        train_batches = generator(features=train_features, labels=train_labels, shuffle=shuffle, batch_size=batch_size)\n",
    "        val_batches = generator(features=val_features, labels=val_labels, shuffle=False, batch_size=batch_size)\n",
    "        for phase in ['train', 'valid']:\n",
    "            running_loss = 0.0\n",
    "            running_corrects = 0\n",
    "            if phase == 'train':\n",
    "                model.train()\n",
    "                for data in train_batches:\n",
    "                    inputs, labels = data\n",
    "                    if use_gpu:\n",
    "                        inputs, labels = Variable(torch.from_numpy(inputs).cuda()), Variable(torch.from_numpy(labels).cuda())\n",
    "                    else:\n",
    "                        inputs, labels = Variable(torch.from_numpy(inputs)), Variable(torch.from_numpy(labels))\n",
    "                    outputs = model(inputs)\n",
    "                    loss = criterion(outputs, labels)\n",
    "                    optimizer = optimizer\n",
    "                    optimizer.zero_grad()\n",
    "                    _, preds = torch.max(outputs.data, 1)\n",
    "                    loss.backward()\n",
    "                    optimizer.step()\n",
    "                    running_loss += loss.data[0] * inputs.size(0)\n",
    "                    running_corrects += torch.sum(preds==labels.data)\n",
    "            else:\n",
    "                model.eval()\n",
    "                for data in val_batches:\n",
    "                    inputs, labels = data\n",
    "                    if use_gpu:\n",
    "                        inputs, labels = Variable(torch.from_numpy(inputs).cuda()), Variable(torch.from_numpy(labels).cuda())\n",
    "                    else:\n",
    "                        inputs, labels = Variable(torch.from_numpy(inputs)), Variable(torch.from_numpy(labels))\n",
    "                    outputs = model(inputs)\n",
    "                    _, preds = torch.max(outputs.data, 1)\n",
    "                    loss = criterion(outputs, labels)\n",
    "                    running_loss += loss.data[0] * inputs.size(0)\n",
    "                    running_corrects += torch.sum(preds==labels.data)\n",
    "            \n",
    "            epoch_loss = running_loss/dataset_sizes[phase]\n",
    "            epoch_accuracy = running_corrects/dataset_sizes[phase]\n",
    "            print('{} Loss: {:.4f} Acc: {:.4f}'.format(phase, epoch_loss, epoch_accuracy))\n",
    "            \n",
    "            if phase == 'valid' and epoch_accuracy > best_accuracy:\n",
    "                best_accuracy = epoch_accuracy\n",
    "                best_model_weights = copy.deepcopy(model.state_dict())\n",
    "        print()\n",
    "    \n",
    "    run_time = time.time() - start\n",
    "    print('Training completed in {:.0f}m and {:.0f}s'.format(run_time//60, run_time%60))\n",
    "    print('Best Validation Accuracy: {:4f}'.format(best_accuracy))\n",
    "    model.load_state_dict(best_model_weights)\n",
    "    return model"
   ]
  },
  {
   "cell_type": "code",
   "execution_count": 220,
   "metadata": {
    "scrolled": false
   },
   "outputs": [
    {
     "name": "stdout",
     "output_type": "stream",
     "text": [
      "Epoch 0/19\n",
      "----------\n",
      "train Loss: 0.6425 Acc: 0.6700\n",
      "valid Loss: 0.5239 Acc: 0.7420\n",
      "\n",
      "Epoch 1/19\n",
      "----------\n",
      "train Loss: 0.6010 Acc: 0.6971\n",
      "valid Loss: 0.8752 Acc: 0.6165\n",
      "\n",
      "Epoch 2/19\n",
      "----------\n",
      "train Loss: 0.5762 Acc: 0.7077\n",
      "valid Loss: 0.7024 Acc: 0.6620\n",
      "\n",
      "Epoch 3/19\n",
      "----------\n",
      "train Loss: 0.6169 Acc: 0.6979\n",
      "valid Loss: 0.7716 Acc: 0.6650\n",
      "\n",
      "Epoch 4/19\n",
      "----------\n",
      "train Loss: 0.6496 Acc: 0.6963\n",
      "valid Loss: 0.5546 Acc: 0.7380\n",
      "\n",
      "Epoch 5/19\n",
      "----------\n",
      "train Loss: 0.5953 Acc: 0.7093\n",
      "valid Loss: 0.4390 Acc: 0.7875\n",
      "\n",
      "Epoch 6/19\n",
      "----------\n",
      "train Loss: 0.6022 Acc: 0.7105\n",
      "valid Loss: 0.8225 Acc: 0.6375\n",
      "\n",
      "Epoch 7/19\n",
      "----------\n",
      "train Loss: 0.6061 Acc: 0.7122\n",
      "valid Loss: 0.6276 Acc: 0.7145\n",
      "\n",
      "Epoch 8/19\n",
      "----------\n",
      "train Loss: 0.6101 Acc: 0.7115\n",
      "valid Loss: 0.4352 Acc: 0.7865\n",
      "\n",
      "Epoch 9/19\n",
      "----------\n",
      "train Loss: 0.5818 Acc: 0.7206\n",
      "valid Loss: 0.8186 Acc: 0.6495\n",
      "\n",
      "Epoch 10/19\n",
      "----------\n",
      "train Loss: 0.5966 Acc: 0.7162\n",
      "valid Loss: 0.4269 Acc: 0.7980\n",
      "\n",
      "Epoch 11/19\n",
      "----------\n",
      "train Loss: 0.6413 Acc: 0.7064\n",
      "valid Loss: 0.5055 Acc: 0.7605\n",
      "\n",
      "Epoch 12/19\n",
      "----------\n",
      "train Loss: 0.6021 Acc: 0.7200\n",
      "valid Loss: 0.4430 Acc: 0.7880\n",
      "\n",
      "Epoch 13/19\n",
      "----------\n",
      "train Loss: 0.5764 Acc: 0.7248\n",
      "valid Loss: 0.4651 Acc: 0.7745\n",
      "\n",
      "Epoch 14/19\n",
      "----------\n",
      "train Loss: 0.5794 Acc: 0.7239\n",
      "valid Loss: 0.4583 Acc: 0.7855\n",
      "\n",
      "Epoch 15/19\n",
      "----------\n",
      "train Loss: 0.6089 Acc: 0.7174\n",
      "valid Loss: 0.4344 Acc: 0.7895\n",
      "\n",
      "Epoch 16/19\n",
      "----------\n",
      "train Loss: 0.6102 Acc: 0.7161\n",
      "valid Loss: 0.5628 Acc: 0.7430\n",
      "\n",
      "Epoch 17/19\n",
      "----------\n",
      "train Loss: 0.5965 Acc: 0.7206\n",
      "valid Loss: 0.7619 Acc: 0.6695\n",
      "\n",
      "Epoch 18/19\n",
      "----------\n",
      "train Loss: 0.5685 Acc: 0.7303\n",
      "valid Loss: 0.5372 Acc: 0.7515\n",
      "\n",
      "Epoch 19/19\n",
      "----------\n",
      "train Loss: 0.5905 Acc: 0.7206\n",
      "valid Loss: 0.4780 Acc: 0.7735\n",
      "\n",
      "Training completed in 0m and 6s\n",
      "Best Validation Accuracy: 0.798000\n"
     ]
    }
   ],
   "source": [
    "model = train(model,dataset_sizes=dataset_sizes, train_features=conv_feat_train, train_labels=labels_train, val_features=conv_feat_val, val_labels=labels_val, criterion=criterion, optimizer=optimizer, num_epochs=num_epochs, train=True, shuffle=True)"
   ]
  },
  {
   "cell_type": "markdown",
   "metadata": {},
   "source": [
    "## Saving checkpoint"
   ]
  },
  {
   "cell_type": "code",
   "execution_count": 189,
   "metadata": {},
   "outputs": [
    {
     "data": {
      "text/plain": [
       "'../models/catsanddogs/checkpoint.pth.tar'"
      ]
     },
     "execution_count": 189,
     "metadata": {},
     "output_type": "execute_result"
    }
   ],
   "source": [
    "model_weights_path"
   ]
  },
  {
   "cell_type": "code",
   "execution_count": 255,
   "metadata": {},
   "outputs": [],
   "source": [
    "# Saving The Model:\n",
    "torch.save(model.state_dict(), model_weights_path)"
   ]
  },
  {
   "cell_type": "code",
   "execution_count": 222,
   "metadata": {},
   "outputs": [
    {
     "name": "stdout",
     "output_type": "stream",
     "text": [
      "hyperparameters_loaded ({'learning_rate': 0.001, 'num_features': 2048, 'num_classes': 2, 'num_epochs': 20, 'weight_decay': 0, 'momentum': 0.9, 'batch_size': 64},)\n"
     ]
    }
   ],
   "source": [
    "hyperparameters_loaded = pickle.load(open('../models/hyperparameters.p', mode='rb'))\n",
    "print('hyperparameters_loaded', hyperparameters_loaded)"
   ]
  },
  {
   "cell_type": "code",
   "execution_count": 223,
   "metadata": {
    "collapsed": true
   },
   "outputs": [],
   "source": [
    "pickle.dump((class_to_idx,), open(class_to_idx_path, 'wb'))"
   ]
  },
  {
   "cell_type": "markdown",
   "metadata": {},
   "source": [
    "## Test Accuracy"
   ]
  },
  {
   "cell_type": "code",
   "execution_count": 250,
   "metadata": {},
   "outputs": [
    {
     "name": "stdout",
     "output_type": "stream",
     "text": [
      "Epoch 0/0\n",
      "----------\n",
      "Testing: Loss: 0.2794 Acc: 0.9000\n",
      "\n",
      "Testing completed in 0m and 0s\n",
      "Best Test Accuracy: 0.900000\n"
     ]
    },
    {
     "data": {
      "text/plain": [
       "Classifier(\n",
       "  (classifier): Sequential(\n",
       "    (0): Linear(in_features=2048, out_features=2)\n",
       "  )\n",
       ")"
      ]
     },
     "execution_count": 250,
     "metadata": {},
     "output_type": "execute_result"
    }
   ],
   "source": [
    "def test_accuracy(model, dataset_size=27, conv_feat_test=None, labels_test=None, criterion=None,num_epochs=1, shuffle=None):\n",
    "    start = time.time()\n",
    "    best_model_weights = copy.deepcopy(model.state_dict())\n",
    "    best_accuracy = 0.0\n",
    "    for epoch in range(num_epochs):\n",
    "        print('Epoch {}/{}'.format(epoch, num_epochs -1))\n",
    "        print('-'*10)\n",
    "        val_batches = generator(features=conv_feat_test, labels=labels_test, shuffle=False, batch_size=batch_size)\n",
    "        running_loss = 0.0\n",
    "        running_corrects = 0\n",
    "        model.eval()\n",
    "        for data in val_batches:\n",
    "            inputs, labels = data\n",
    "            if use_gpu:\n",
    "                inputs, labels = Variable(torch.from_numpy(inputs).cuda()), Variable(torch.from_numpy(labels).cuda())\n",
    "            else:\n",
    "                inputs, labels = Variable(torch.from_numpy(inputs)), Variable(torch.from_numpy(labels))\n",
    "            outputs = model(inputs)\n",
    "            _, preds = torch.max(outputs.data, 1)\n",
    "            loss = criterion(outputs, labels)\n",
    "            running_loss += loss.data[0] * inputs.size(0)\n",
    "            running_corrects += torch.sum(preds==labels.data)\n",
    "\n",
    "        epoch_loss = running_loss/dataset_size\n",
    "        epoch_accuracy = running_corrects/dataset_size\n",
    "        print('{} Loss: {:.4f} Acc: {:.4f}'.format('Testing:', epoch_loss, epoch_accuracy))\n",
    "\n",
    "        if epoch_accuracy > best_accuracy:\n",
    "            best_accuracy = epoch_accuracy\n",
    "            best_model_weights = copy.deepcopy(model.state_dict())\n",
    "        print()\n",
    "    \n",
    "    run_time = time.time() - start\n",
    "    print('Testing completed in {:.0f}m and {:.0f}s'.format(run_time//60, run_time%60))\n",
    "    print('Best Test Accuracy: {:4f}'.format(best_accuracy))\n",
    "    model.load_state_dict(best_model_weights)\n",
    "    return model\n",
    "test_accuracy(model, dataset_size=100, conv_feat_test=conv_feat_test, labels_test=labels_test, criterion=criterion,num_epochs=1, shuffle=None)"
   ]
  },
  {
   "cell_type": "markdown",
   "metadata": {},
   "source": [
    "## Sanity Checking with matplotlib"
   ]
  },
  {
   "cell_type": "code",
   "execution_count": 281,
   "metadata": {
    "collapsed": true
   },
   "outputs": [],
   "source": [
    "# Source: http://pytorch.org/tutorials/beginner/transfer_learning_tutorial.html\n",
    "def sanity_checking_model(model,num_images=6):\n",
    "    model.eval()\n",
    "    images_so_far = 0\n",
    "    fig = plt.figure()\n",
    "    for i, data in enumerate(testDataLoader):\n",
    "        inputs, labels = data\n",
    "        print('inputs.shape', inputs.shape)\n",
    "        if use_gpu:\n",
    "            inputs, labels = Variable(inputs.cuda()), Variable(labels.cuda())\n",
    "        else:\n",
    "            inputs, labels = Variable(inputs), Variable(labels)\n",
    "        extracted_inputs = pretrained_model(inputs)\n",
    "        outputs = model(extracted_inputs)\n",
    "        _, preds = torch.max(outputs.data, 1)\n",
    "        for k in range(inputs.size()[0]):\n",
    "            images_so_far += 1\n",
    "            ax = plt.subplot(num_images//2, 2, images_so_far)\n",
    "            ax.axis('off')\n",
    "            ax.set_title('Predicted: {}'.format(test_class_names[preds[k]]))\n",
    "            imshow(inputs.cpu().data[k])\n",
    "            if images_so_far == num_images:\n",
    "                return"
   ]
  },
  {
   "cell_type": "markdown",
   "metadata": {},
   "source": [
    "### Loading Checkpoint"
   ]
  },
  {
   "cell_type": "code",
   "execution_count": 282,
   "metadata": {
    "collapsed": true
   },
   "outputs": [],
   "source": [
    "state = torch.load(model_weights_path)\n",
    "model = Classifier(num_features, num_classes)\n",
    "model.load_state_dict(state)"
   ]
  },
  {
   "cell_type": "code",
   "execution_count": 284,
   "metadata": {},
   "outputs": [
    {
     "name": "stdout",
     "output_type": "stream",
     "text": [
      "inputs.shape torch.Size([6, 3, 224, 224])\n"
     ]
    },
    {
     "data": {
      "image/png": "[encoded data removed]",
      "text/plain": [
       "<matplotlib.figure.Figure at 0x110b377b8>"
      ]
     },
     "metadata": {},
     "output_type": "display_data"
    }
   ],
   "source": [
    "sanity_checking_model(model, num_images=6)"
   ]
  },
  {
   "cell_type": "code",
   "execution_count": null,
   "metadata": {
    "collapsed": true
   },
   "outputs": [],
   "source": []
  }
 ],
 "metadata": {
  "kernelspec": {
   "display_name": "Python 3",
   "language": "python",
   "name": "python3"
  },
  "language_info": {
   "codemirror_mode": {
    "name": "ipython",
    "version": 3
   },
   "file_extension": ".py",
   "mimetype": "text/x-python",
   "name": "python",
   "nbconvert_exporter": "python",
   "pygments_lexer": "ipython3",
   "version": "3.5.2"
  },
  "widgets": {
   "state": {},
   "version": "1.1.2"
  }
 },
 "nbformat": 4,
 "nbformat_minor": 2
}
